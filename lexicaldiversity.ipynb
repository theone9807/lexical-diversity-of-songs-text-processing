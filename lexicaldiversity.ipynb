{
  "cells": [
    {
      "metadata": {
        "_uuid": "3be734a6bb7d45aef4308f3856f3a0463dd87e02"
      },
      "cell_type": "markdown",
      "source": "# Workshop 3: TEXT PROCESSING\n"
    },
    {
      "metadata": {
        "_uuid": "6f781dee5d5a7c8e29103e1a27e21e1778ea4447"
      },
      "cell_type": "markdown",
      "source": "In this workshop, you will use the tools demonstrated in 'Text-Processing-2019' (HLT 8) on examples of *real* texts. Firstly, in pairs within your group, go through Part 1 which looks at reading and determining the subject matter of an online news article. You may want to also try this out on news articles from today. Part 2 looks at reading raw text files and comparing lexical diversity of two famous novels. "
    },
    {
      "metadata": {
        "_uuid": "dfa174c3f7e0708f8051e8c34be52fac3085bc02"
      },
      "cell_type": "markdown",
      "source": "## Group Challenge"
    },
    {
      "metadata": {
        "_uuid": "d1cc346eb428d64f8ad869681e2e2b6c60c9cabc"
      },
      "cell_type": "markdown",
      "source": "\"Lyrics in modern popular music are simplistic and repetitive. Classic songs have so much more diversity.\" \n\nA prime example used to back up this statement is Ed Sheeran's 'Shape of You', which repeats \"I'm in love with your body\" over and over. The lexical diversity of this song is only 0.21. \n\nCan you find 4 counterexamples which challenge this statement? – 2 great songs which have a lower lexical diversity, and 2 modern songs which have a high lexical diversity. You can use BeautifulSoup to scrape the lyrics from a website, or download a text file of the lyrics.\n\n*One example to get you started: Rage Against the Machine’s most famous song - 'Killing in the Name' scores a lowly 0.076.\n\nCan you reliably detect the topic of the song from the 5 most common words? If not, what could be done to improve the performance?\n\nNote that Assignment 1 which you will get on Monday will delve deeper into the topic of lexical diversity.\n\nThe outcome of the Group Challenge should be captured on the Discussion Sheet."
    },
    {
      "metadata": {
        "_uuid": "6abdd23159738889b420d8e96aa298d6b797c7a9"
      },
      "cell_type": "markdown",
      "source": "## Part 1: Reading HTML from the web"
    },
    {
      "metadata": {
        "_uuid": "5dc9623b70abbad893aa50cbd889d5a321fa055e"
      },
      "cell_type": "markdown",
      "source": "**Goal: Understand the subject of an online news article through content words**"
    },
    {
      "metadata": {
        "_uuid": "813b299c0d57faf40ff502046d247f23fbc99c5b"
      },
      "cell_type": "markdown",
      "source": "A huge amount of text is available online. While it is a fantastic resource for NLP research, the HTML used to structure most web pages means accessing the content of interest can be difficult; we often end up with more tags and links than the text of interest. We will use the Python packages 'requests' and 'BeautifulSoup' to first retrieve the data, then parse the HTML."
    },
    {
      "metadata": {
        "trusted": true,
        "_uuid": "0fa967321f4367d37b51e9f97c625be6d68ca9c6"
      },
      "cell_type": "code",
      "source": "import nltk\nfrom bs4 import BeautifulSoup\nimport requests",
      "execution_count": 44,
      "outputs": []
    },
    {
      "metadata": {
        "_uuid": "e842a1f34edf1e19afa194657d2822b741d4562d"
      },
      "cell_type": "markdown",
      "source": "If you get the error: **ModuleNotFoundError: No module named 'bs4'**, run the following command in a terminal window to install BeautifulSoup4: \n\n* pip install beautifulsoup4"
    },
    {
      "metadata": {
        "_uuid": "4e9cbf80b5874104db8ccd45cd4ed8c75493eacb"
      },
      "cell_type": "markdown",
      "source": "The URL for this article is from the Florida school shooting"
    },
    {
      "metadata": {
        "trusted": true,
        "_uuid": "4e0b3da22ef47eee9805f524966476f066f7b4dc"
      },
      "cell_type": "code",
      "source": "#url = 'https://www.irishtimes.com/news/world/us/florida-shooting-\\teenager-charged-with-17-counts-of-murder-1.3393087'\nurl = 'https://www.irishtimes.com/news/ireland/irish-news/florida-shooting-victim-had-been-due-to-visit-grandparents-in-ireland-this-summer-1.3396310'\npage = requests.get(url)",
      "execution_count": 45,
      "outputs": []
    },
    {
      "metadata": {
        "_uuid": "f48bd5edbe47dfef391ec2ca4b526393523ac28c"
      },
      "cell_type": "markdown",
      "source": "BeautifulSoup creates an object with methods which can be used to easily display selected sections"
    },
    {
      "metadata": {
        "scrolled": true,
        "trusted": true,
        "_uuid": "489c0d7dc6e661f570bb1eb468c0aacf4371a514"
      },
      "cell_type": "code",
      "source": "soup = BeautifulSoup(page.content, 'html.parser')\n# print(soup.prettify())",
      "execution_count": 82,
      "outputs": []
    },
    {
      "metadata": {
        "_uuid": "7b0a7ca2af39db57cd6942f656aa34c6e1834b37"
      },
      "cell_type": "markdown",
      "source": "That's a lot of markup and Javascript which is not relevant for us! To extract the story, we identify which tags it is contained within. In this case: \n* p class=\"no_name\""
    },
    {
      "metadata": {
        "trusted": true,
        "_uuid": "fd0351a1996085663297160655862b4d23257896"
      },
      "cell_type": "code",
      "source": "p_tags = soup.find_all('p', class_=\"no_name\")",
      "execution_count": 47,
      "outputs": []
    },
    {
      "metadata": {
        "_uuid": "ff9b59ab89a3dd663084625cd6d72540e8a2d3f6"
      },
      "cell_type": "markdown",
      "source": "Check the first three p tags"
    },
    {
      "metadata": {
        "trusted": true,
        "_uuid": "525ddda5dfab7bb9c580920d92602862dc77d540"
      },
      "cell_type": "code",
      "source": "p_tags[:3]",
      "execution_count": null,
      "outputs": []
    },
    {
      "metadata": {
        "_uuid": "88bd3cf5d56c79fa1271ae9af4aa8d03d8865322"
      },
      "cell_type": "markdown",
      "source": ".get_text() removes all tags"
    },
    {
      "metadata": {
        "trusted": true,
        "_uuid": "45d99031b74f84c21f935aa0fbee413e990446e8"
      },
      "cell_type": "code",
      "source": "sentences = [p.get_text() for p in p_tags]\nsentences[:3]",
      "execution_count": 48,
      "outputs": [
        {
          "output_type": "execute_result",
          "execution_count": 48,
          "data": {
            "text/plain": "['The Co Antrim-based relatives of a victim of a US high school shooting in Florida say they have been left “broken-hearted” by her death. ',\n 'Cara Loughran (14) who was a pupil at Marjory Stoneman Douglas High School in Parkland, near Miami, was one of 17 victims shot dead in a massacre on Wednesday. ',\n 'The girl’s father is originally from Toome, a Co Antrim village where her grandparents Paddy and Ellie Loughran, and the extended Loughran family, live. ']"
          },
          "metadata": {}
        }
      ]
    },
    {
      "metadata": {
        "_uuid": "58235e3171e7aa9fdab351b9ece0fe8b43d6bfc0"
      },
      "cell_type": "markdown",
      "source": "Now the sentences can be concatenated to a single string"
    },
    {
      "metadata": {
        "scrolled": false,
        "trusted": true,
        "_uuid": "408ab501687a113bcec54fba991f2224527ad252"
      },
      "cell_type": "code",
      "source": "mytext = ' '.join(sentences)\nmytext[:1000]",
      "execution_count": 84,
      "outputs": [
        {
          "output_type": "execute_result",
          "execution_count": 84,
          "data": {
            "text/plain": "'The Co Antrim-based relatives of a victim of a US high school shooting in Florida say they have been left “broken-hearted” by her death.  Cara Loughran (14) who was a pupil at Marjory Stoneman Douglas High School in Parkland, near Miami, was one of 17 victims shot dead in a massacre on Wednesday.  The girl’s father is originally from Toome, a Co Antrim village where her grandparents Paddy and Ellie Loughran, and the extended Loughran family, live.  Fr Paddy McWilliams, who knows the Loughrans, told The Irish News the couple, who are understood to be in their 70s, were “very private” people and that they were distraught at the loss of their granddaughter.  “They are just broken-hearted,” he said.  “The wee family was coming home for the summer, as they do regularly, but that’s not going to happen now.” It is believed Cara’s older brother Liam (17) was a witness to the school shooting but escaped uninjured.  Police in America have said, Nikolaz Cruz (19) a former pupil at the school, con'"
          },
          "metadata": {}
        }
      ]
    },
    {
      "metadata": {
        "_uuid": "55197cf942cad1a8d8360fdebf2c04909185f638"
      },
      "cell_type": "markdown",
      "source": "There's a few words at the end which are not part of the story - ' - Additional reporting: PA'. These can be manually removed by slicing to the first index of the unwanted words. Here the last 50 characters of the remaining text are displayed."
    },
    {
      "metadata": {
        "scrolled": true,
        "trusted": true,
        "_uuid": "84a520e2fa8f21bc368a7ccc0467c8562f470a54"
      },
      "cell_type": "code",
      "source": "mytext = mytext[:mytext.index(' - Additional')]\nmytext[-50:]",
      "execution_count": 50,
      "outputs": [
        {
          "output_type": "execute_result",
          "execution_count": 50,
          "data": {
            "text/plain": "'ndlelight vigil on Thursday night near the school.'"
          },
          "metadata": {}
        }
      ]
    },
    {
      "metadata": {
        "_uuid": "f60699ff360cdf845a19dd3a85a42cf8516564cc"
      },
      "cell_type": "markdown",
      "source": "Tokenize the string into individual words showing the first 30"
    },
    {
      "metadata": {
        "trusted": true,
        "_uuid": "b23aacdebf599cfbddb63972d9753fbdf7ed0d2c"
      },
      "cell_type": "code",
      "source": "tokens = nltk.word_tokenize(mytext)\nprint(tokens[:30])",
      "execution_count": 51,
      "outputs": [
        {
          "output_type": "stream",
          "text": "['The', 'Co', 'Antrim-based', 'relatives', 'of', 'a', 'victim', 'of', 'a', 'US', 'high', 'school', 'shooting', 'in', 'Florida', 'say', 'they', 'have', 'been', 'left', '“', 'broken-hearted', '”', 'by', 'her', 'death', '.', 'Cara', 'Loughran', '(']\n",
          "name": "stdout"
        }
      ]
    },
    {
      "metadata": {
        "trusted": true,
        "_uuid": "ff8260af1d99385b95482fe7f6bbcb8e6e712c0e"
      },
      "cell_type": "code",
      "source": "len(tokens)",
      "execution_count": 52,
      "outputs": [
        {
          "output_type": "execute_result",
          "execution_count": 52,
          "data": {
            "text/plain": "667"
          },
          "metadata": {}
        }
      ]
    },
    {
      "metadata": {
        "_uuid": "e4b8ff486951cbe9d522e1ebaf666eb4ac3836d4"
      },
      "cell_type": "markdown",
      "source": "We can remove punctuation and change all tokens to lowercase by using .lower() and .isalnum()"
    },
    {
      "metadata": {
        "trusted": true,
        "_uuid": "4a7cf637f9fb9859569c964306d5b0152ad60c1d"
      },
      "cell_type": "code",
      "source": "words_n_nums = [t.lower() for t in tokens if t.isalnum()]\nprint(words_n_nums[:30])",
      "execution_count": null,
      "outputs": []
    },
    {
      "metadata": {
        "_uuid": "71d737125843fa6958d050b38879a688005d1fec"
      },
      "cell_type": "markdown",
      "source": "Sorting the tokens can be useful for inspection (e.g. here showing first 20 and last 20)"
    },
    {
      "metadata": {
        "trusted": true,
        "_uuid": "cfd8eb26d05ebc04165de5a97d15c4e04c69d9ae"
      },
      "cell_type": "code",
      "source": "sorted_words_n_nums = sorted(words_n_nums)\nprint(sorted_words_n_nums[:20])",
      "execution_count": 53,
      "outputs": [
        {
          "output_type": "stream",
          "text": "['14', '14', '17', '17', '17', '17', '19', '70s', 'a', 'a', 'a', 'a', 'a', 'a', 'a', 'a', 'a', 'a', 'a', 'a']\n",
          "name": "stdout"
        }
      ]
    },
    {
      "metadata": {
        "trusted": true,
        "_uuid": "5b3a7429f5d8ae15d5f61ee9f0fcb0fdd7dfe1a1"
      },
      "cell_type": "code",
      "source": "print(sorted_words_n_nums[-20:])",
      "execution_count": null,
      "outputs": []
    },
    {
      "metadata": {
        "_uuid": "7540bacf9914f0738dbeadfe68938fdfb91c132f"
      },
      "cell_type": "markdown",
      "source": "Frequency distribution provides ordered counts of tokens"
    },
    {
      "metadata": {
        "trusted": true,
        "_uuid": "828bcb45c7e9cb96def20f4788b2343d06ebac0b"
      },
      "cell_type": "code",
      "source": "fd = nltk.FreqDist(words_n_nums)\nprint(fd.most_common(10))",
      "execution_count": 54,
      "outputs": [
        {
          "output_type": "stream",
          "text": "[('the', 34), ('a', 16), ('to', 15), ('and', 13), ('school', 12), ('in', 12), ('was', 9), ('at', 9), ('of', 8), ('s', 8)]\n",
          "name": "stdout"
        }
      ]
    },
    {
      "metadata": {
        "trusted": true,
        "_uuid": "a89b78d2587dbb4e365d124ade133db6b0b71fdc"
      },
      "cell_type": "code",
      "source": "fd.plot(10)",
      "execution_count": 55,
      "outputs": [
        {
          "output_type": "display_data",
          "data": {
            "text/plain": "<Figure size 432x288 with 1 Axes>",
            "image/png": "[encoded data removed]"
          },
          "metadata": {}
        }
      ]
    },
    {
      "metadata": {
        "_uuid": "ad6db129bf17e03d3254a188a90e0c4da44fbf92"
      },
      "cell_type": "markdown",
      "source": "From these 10 most common words, would you be able to guess the content of this article? Probably not. The only word which gives us any useful information is *'school'*."
    },
    {
      "metadata": {
        "_uuid": "8e476e752fd2d69eb27de1ca1e69cec218d85e5a"
      },
      "cell_type": "markdown",
      "source": "There are a lot of stopwords (e.g. 'the, 'a', 'of') which don't provide much information on the content of the article. In addition, 'shoot', 'shot', 'shooting', 'shoots', 'shooter' will all have separate counts when it would be more appropriate to combine them into a single token."
    },
    {
      "metadata": {
        "_uuid": "dbed55b40d497ee7cd54f03865cba467c7ba352e"
      },
      "cell_type": "markdown",
      "source": "To remove stopwords, nltk provides an in-built list. "
    },
    {
      "metadata": {
        "trusted": true,
        "_uuid": "74a3697d8337befd1bae305c8d9af442d28a16fd"
      },
      "cell_type": "code",
      "source": "from nltk.corpus import stopwords\nfiltered_words = [w.lower() for w in words_n_nums if w.lower() not in stopwords.words('english')]",
      "execution_count": 56,
      "outputs": []
    },
    {
      "metadata": {
        "_uuid": "b47c9ced19ef66395230c632e50c334260505f86"
      },
      "cell_type": "markdown",
      "source": "To combine counts for words with the same stem, we can use nltk's Porter stemmer"
    },
    {
      "metadata": {
        "trusted": true,
        "_uuid": "d7c463fc726aab1177eb5b21e2d463d956a02e24"
      },
      "cell_type": "code",
      "source": "porter = nltk.PorterStemmer()",
      "execution_count": 57,
      "outputs": []
    },
    {
      "metadata": {
        "trusted": true,
        "_uuid": "d23c35216eea2609d093c50b9d52fa1cb79cf1b1"
      },
      "cell_type": "code",
      "source": "stemmed_words = [porter.stem(w) for w in filtered_words]",
      "execution_count": 58,
      "outputs": []
    },
    {
      "metadata": {
        "trusted": true,
        "_uuid": "091d1ef19106573ed97fff04cb55368d3d906996"
      },
      "cell_type": "code",
      "source": "print(stemmed_words[:10])",
      "execution_count": 59,
      "outputs": [
        {
          "output_type": "stream",
          "text": "['co', 'rel', 'victim', 'us', 'high', 'school', 'shoot', 'florida', 'say', 'left']\n",
          "name": "stdout"
        }
      ]
    },
    {
      "metadata": {
        "trusted": true,
        "_uuid": "9d3898f0d8ae274772c909780f66c0183d44761f"
      },
      "cell_type": "code",
      "source": "fd = nltk.FreqDist(stemmed_words)\nprint(fd.most_common(10))",
      "execution_count": 60,
      "outputs": [
        {
          "output_type": "stream",
          "text": "[('school', 12), ('shoot', 6), ('cara', 6), ('trump', 6), ('victim', 5), ('high', 4), ('loughran', 4), ('17', 4), ('peopl', 4), ('said', 4)]\n",
          "name": "stdout"
        }
      ]
    },
    {
      "metadata": {
        "trusted": true,
        "_uuid": "39a3ad77e9a4b9dec5e4310ea1b2cc0f73804bc3"
      },
      "cell_type": "code",
      "source": "fd.plot(10)",
      "execution_count": 61,
      "outputs": [
        {
          "output_type": "display_data",
          "data": {
            "text/plain": "<Figure size 432x288 with 1 Axes>",
            "image/png": "[encoded data removed]"
          },
          "metadata": {}
        }
      ]
    },
    {
      "metadata": {
        "_uuid": "d7e1bbd5a53deca1f9c480395f1bad285c55c0d4"
      },
      "cell_type": "markdown",
      "source": "Now it is possible to quickly grasp the subject matter of the article - a serious school shooting."
    },
    {
      "metadata": {
        "_uuid": "928bb3c93a2fe7e401a57ef76ed0757bc2f056e4"
      },
      "cell_type": "markdown",
      "source": "## Part 2: Reading text files"
    },
    {
      "metadata": {
        "_uuid": "784cfb95455bbe93fa1a019994571f03e649e7bb"
      },
      "cell_type": "markdown",
      "source": "**Goal: Compare the lexical diversity of two of Ireland's most famous novels, Ulysses and Dracula.**"
    },
    {
      "metadata": {
        "_uuid": "fd48ea032d77a5770c6f1062815329ebc362250b"
      },
      "cell_type": "markdown",
      "source": "Download the following raw text files into your current directory"
    },
    {
      "metadata": {
        "_uuid": "8a1cd52ff41a6bdfaeae07bfd84581c2c4057d6c"
      },
      "cell_type": "markdown",
      "source": "'Ulysses' by James Joyce: https://raw.githubusercontent.com/mattf/joyce/master/james-joyce-ulysses.txt"
    },
    {
      "metadata": {
        "_uuid": "9a61ba84d5465369b520ba9307d05e05cc30716f"
      },
      "cell_type": "markdown",
      "source": "'Dracula' by Bram Stoker: https://raw.githubusercontent.com/processing/processing-docs/master/content/examples/Topics/Advanced%20Data/HashMapClass/data/dracula.txt"
    },
    {
      "metadata": {
        "_uuid": "d03b429daff68618762e32115542c8b736ebf1c0"
      },
      "cell_type": "markdown",
      "source": "Load the text files using the following code:"
    },
    {
      "metadata": {
        "trusted": true,
        "_uuid": "10003bafc886e46e115b93d47e31ab74185078f5"
      },
      "cell_type": "code",
      "source": "def load_txt(file):\n    with open(file, encoding=\"utf8\") as f:\n        x = ' '.join(line.strip() for line in f.readlines())\n        f.close()\n        return x",
      "execution_count": 62,
      "outputs": []
    },
    {
      "metadata": {
        "trusted": true,
        "_uuid": "7429bfa57cb9148dce4dda6e1e4aa90de130fb48"
      },
      "cell_type": "code",
      "source": "ulysses_txt = load_txt('../input/james-joyce-ulysses.txt')\ndracula_txt = load_txt('../input/dracula.txt')",
      "execution_count": 63,
      "outputs": []
    },
    {
      "metadata": {
        "_uuid": "f76e26e30974516ce8a2990c778ee7b3c5bb82c1"
      },
      "cell_type": "markdown",
      "source": "Introduction and end include text we don't need. You can check the first N characters by slicing the string just like a list, e.g. list_name[:N]"
    },
    {
      "metadata": {
        "trusted": true,
        "_uuid": "0c216c2577212df6cd5984092e86343612f747f3"
      },
      "cell_type": "code",
      "source": "ulysses_txt[:1000]",
      "execution_count": 64,
      "outputs": [
        {
          "output_type": "execute_result",
          "execution_count": 64,
          "data": {
            "text/plain": "'\\ufeff   The Project Gutenberg EBook of Ulysses, by James Joyce  This eBook is for the use of anyone anywhere at no cost and with almost no restrictions whatsoever.  You may copy it, give it away or re-use it under the terms of the Project Gutenberg License included with this eBook or online at www.gutenberg.org   Title: Ulysses  Author: James Joyce  Release Date: August 1, 2008 [EBook #4300] Last Updated: May 16, 2016  Language: English  Character set encoding: UTF-8  *** START OF THIS PROJECT GUTENBERG EBOOK ULYSSES ***     Produced by Col Choat, and David Widger        ULYSSES   by James Joyce      Contents — I —  [ 1 ] [ 2 ] [ 3 ] — II —  [ 4 ] [ 5 ] [ 6 ] [ 7 ] [ 8 ] [ 9 ] [ 10 ] [ 11 ] [ 12 ] [ 13 ] [ 14 ] [ 15 ] — III —  [ 16 ] [ 17 ] [ 18 ]          — I —      [ 1 ]  Stately, plump Buck Mulligan came from the stairhead, bearing a bowl of lather on which a mirror and a razor lay crossed. A yellow dressinggown, ungirdled, was sustained gently behind him on the mild morning air. He hel'"
          },
          "metadata": {}
        }
      ]
    },
    {
      "metadata": {
        "_uuid": "53899f4cf9d7075ceb659cf979bd41c5a199820a"
      },
      "cell_type": "markdown",
      "source": "Find the location of the first word of interest - 'Stately'"
    },
    {
      "metadata": {
        "trusted": true,
        "_uuid": "29933ef99bbaa90c30990f225c8b44c8b9bb4d82"
      },
      "cell_type": "code",
      "source": "ulysses_txt.find('Stately')",
      "execution_count": null,
      "outputs": []
    },
    {
      "metadata": {
        "_uuid": "5b6a85a4cb5bb133e96fb48b619bce8829e9fb50"
      },
      "cell_type": "markdown",
      "source": "Find the location of the end - easily found by the string 'End of the Project Gutenberg'"
    },
    {
      "metadata": {
        "trusted": true,
        "_uuid": "56b35cc3acc009c6c1d87a35f4c4b8d4200f2c58"
      },
      "cell_type": "code",
      "source": "ulysses_txt.find('End of the Project Gutenberg')",
      "execution_count": 65,
      "outputs": [
        {
          "output_type": "execute_result",
          "execution_count": 65,
          "data": {
            "text/plain": "1511872"
          },
          "metadata": {}
        }
      ]
    },
    {
      "metadata": {
        "_uuid": "1de146b9bce7e7f1371f840b7aedb9cab509d4ad"
      },
      "cell_type": "markdown",
      "source": "Splice the text to get that raw content we are interested in. You can splice between two numbers (N,M) by using list_name[N:M]"
    },
    {
      "metadata": {
        "trusted": true,
        "_uuid": "86fb6fa1c01db4aad264565e2f0b80add08de81a"
      },
      "cell_type": "code",
      "source": "ulysses_raw = ulysses_txt[781:1511872]",
      "execution_count": 66,
      "outputs": []
    },
    {
      "metadata": {
        "_uuid": "98a0d97413e43840e2c16f59078d578c6e349897"
      },
      "cell_type": "markdown",
      "source": "Check the beginning and end"
    },
    {
      "metadata": {
        "trusted": true,
        "_uuid": "34908cb71313feb0a3ddb02b731ee4d7e467151f"
      },
      "cell_type": "code",
      "source": "ulysses_raw[:200]",
      "execution_count": 67,
      "outputs": [
        {
          "output_type": "execute_result",
          "execution_count": 67,
          "data": {
            "text/plain": "'Stately, plump Buck Mulligan came from the stairhead, bearing a bowl of lather on which a mirror and a razor lay crossed. A yellow dressinggown, ungirdled, was sustained gently behind him on the mild '"
          },
          "metadata": {}
        }
      ]
    },
    {
      "metadata": {
        "trusted": true,
        "_uuid": "cafb755a6537a76e34851dfab5835e5d698dd260"
      },
      "cell_type": "code",
      "source": "ulysses_raw[-200:]",
      "execution_count": null,
      "outputs": []
    },
    {
      "metadata": {
        "_uuid": "9ced9f28e741ed882b96d14e12ff553fe9954c87"
      },
      "cell_type": "markdown",
      "source": "Repeat for Dracula"
    },
    {
      "metadata": {
        "trusted": true,
        "_uuid": "524c47b7fdca65265d2236a382ba48e6f1715a4c"
      },
      "cell_type": "code",
      "source": "dracula_txt.find('3 May')",
      "execution_count": null,
      "outputs": []
    },
    {
      "metadata": {
        "trusted": true,
        "_uuid": "75aafc94fb6ba6d12223cd881e95c971832d7496"
      },
      "cell_type": "code",
      "source": "dracula_txt.find('End of the Project Gutenberg')",
      "execution_count": null,
      "outputs": []
    },
    {
      "metadata": {
        "trusted": true,
        "_uuid": "0e718ca0d516919bb0927aaa5505128e734617b9"
      },
      "cell_type": "code",
      "source": "dracula_raw = dracula_txt[1400:838863]\n# dracula_raw",
      "execution_count": 70,
      "outputs": []
    },
    {
      "metadata": {
        "_uuid": "3b9faec998f105712bfead34157d4ee02d104dca"
      },
      "cell_type": "markdown",
      "source": "Tokenize the raw content"
    },
    {
      "metadata": {
        "trusted": true,
        "_uuid": "1b5b269f61562c75b73b5a204375d771fd8aa700"
      },
      "cell_type": "code",
      "source": "ulysses_tokens = nltk.word_tokenize(ulysses_raw)\ndracula_tokens = nltk.word_tokenize(dracula_raw)",
      "execution_count": 71,
      "outputs": []
    },
    {
      "metadata": {
        "_uuid": "2e667bdcbb7461d90a99146b636dbce922070adb"
      },
      "cell_type": "markdown",
      "source": "Check the output is a list of words"
    },
    {
      "metadata": {
        "trusted": true,
        "_uuid": "c8bac5697bdad2e8859ecb30b4ec06d966611f48"
      },
      "cell_type": "code",
      "source": "print(ulysses_tokens[:10])",
      "execution_count": 72,
      "outputs": [
        {
          "output_type": "stream",
          "text": "['Stately', ',', 'plump', 'Buck', 'Mulligan', 'came', 'from', 'the', 'stairhead', ',']\n",
          "name": "stdout"
        }
      ]
    },
    {
      "metadata": {
        "_uuid": "77c4361599d80cf67724f2ee55f48e8cca427bf9"
      },
      "cell_type": "markdown",
      "source": "**Lexical Diversity Calculation**"
    },
    {
      "metadata": {
        "_uuid": "4c1fa04fedce55c187e9f3ea3d4cfcbc8c9a7057"
      },
      "cell_type": "markdown",
      "source": "Recall that lexical diversity is calculated by dividing the number of unique words  by the total number of words. For example:\n\n\"yes no yes no yes no yes no yes no\" = 2/10 -> 0.2\n\n\"I went to the cinema and watched a great film\" = 10/10 -> 1.0"
    },
    {
      "metadata": {
        "trusted": true,
        "_uuid": "9a7b353f41047a609afebad364511c516bbdf7b0"
      },
      "cell_type": "code",
      "source": "def lexical_diversity(text):\n    return len(set(text)) / len(text)",
      "execution_count": 73,
      "outputs": []
    },
    {
      "metadata": {
        "trusted": true,
        "_uuid": "d7418f3429e622498ee077e3ac965c2a8bbea8ef"
      },
      "cell_type": "code",
      "source": "lexical_diversity(ulysses_tokens)",
      "execution_count": 74,
      "outputs": [
        {
          "output_type": "execute_result",
          "execution_count": 74,
          "data": {
            "text/plain": "0.10927183849669883"
          },
          "metadata": {}
        }
      ]
    },
    {
      "metadata": {
        "trusted": true,
        "_uuid": "c21dab7ce3a5420425c5a02f715af2ed4979cda0"
      },
      "cell_type": "code",
      "source": "lexical_diversity(dracula_tokens)",
      "execution_count": 75,
      "outputs": [
        {
          "output_type": "execute_result",
          "execution_count": 75,
          "data": {
            "text/plain": "0.05514435723490133"
          },
          "metadata": {}
        }
      ]
    },
    {
      "metadata": {
        "_uuid": "5801b032ad2a7e2a743a49fa35693ba9138fbd3e"
      },
      "cell_type": "markdown",
      "source": "It appears that Ulysses has nearly twice the lexical diversity of Dracula. Why do you think this is? "
    },
    {
      "metadata": {
        "_uuid": "0b247854e4f18e08469fcfc703b68e7dd7248449"
      },
      "cell_type": "markdown",
      "source": "## Part 3: An additional step beyond the workshop activities which may be useful:"
    },
    {
      "metadata": {
        "_uuid": "79949b3c507e50b32be2aee98e92c9e1d6fde0f9"
      },
      "cell_type": "markdown",
      "source": "Now look at the parts of speech of the words in the texts. Note that you can make the tags to the categories that you might be more familiar with, and group some of the tags. "
    },
    {
      "metadata": {
        "trusted": true,
        "_uuid": "2caa774babcb65c22166e51798a02a98a55a5b5c"
      },
      "cell_type": "code",
      "source": "def wordnet_pos(tag):\n    if tag.startswith('J'):\n        return 'adj'\n    elif tag.startswith('V'):\n        return 'v'\n    elif tag.startswith('N'):\n        return 'n'\n    elif tag.startswith('R'):\n        return 'adv'\n    else:\n        return ''",
      "execution_count": 76,
      "outputs": []
    },
    {
      "metadata": {
        "trusted": true,
        "_uuid": "da080683c017791a4234e25c1ca48852551906f0"
      },
      "cell_type": "code",
      "source": "ulysses_nopunct = [t.lower() for t in ulysses_tokens if t.isalnum()]\nprint(ulysses_nopunct[:30])",
      "execution_count": 77,
      "outputs": [
        {
          "output_type": "stream",
          "text": "['stately', 'plump', 'buck', 'mulligan', 'came', 'from', 'the', 'stairhead', 'bearing', 'a', 'bowl', 'of', 'lather', 'on', 'which', 'a', 'mirror', 'and', 'a', 'razor', 'lay', 'crossed', 'a', 'yellow', 'dressinggown', 'ungirdled', 'was', 'sustained', 'gently', 'behind']\n",
          "name": "stdout"
        }
      ]
    },
    {
      "metadata": {
        "trusted": true,
        "_uuid": "8ae81187a19fd601b31f699ca067eb69a5b4c7e9"
      },
      "cell_type": "code",
      "source": "tagged = nltk.pos_tag(ulysses_nopunct)\nprint(tagged)[:100]",
      "execution_count": null,
      "outputs": []
    },
    {
      "metadata": {
        "trusted": true,
        "_uuid": "291827a0d45a17414062428cec8affafa511058b"
      },
      "cell_type": "code",
      "source": "wnl = nltk.WordNetLemmatizer()\nwnl.lemmatize('Stately', pos='n')",
      "execution_count": 79,
      "outputs": [
        {
          "output_type": "execute_result",
          "execution_count": 79,
          "data": {
            "text/plain": "'Stately'"
          },
          "metadata": {}
        }
      ]
    },
    {
      "metadata": {
        "trusted": true,
        "_uuid": "3599ac536dffa204aec1cf295b699142e5701d35"
      },
      "cell_type": "code",
      "source": "ulysses_nouns = [word for word, tag in tagged if wordnet_pos(tag) == 'n']\nprint(ulysses_nouns[:30])",
      "execution_count": 80,
      "outputs": [
        {
          "output_type": "stream",
          "text": "['buck', 'mulligan', 'stairhead', 'bowl', 'lather', 'mirror', 'razor', 'lay', 'dressinggown', 'morning', 'air', 'bowl', 'ad', 'altare', 'dei', 'dark', 'stairs', 'kinch', 'jesuit', 'round', 'gunrest', 'tower', 'land', 'awaking', 'sight', 'dedalus', 'towards', 'crosses', 'air', 'throat']\n",
          "name": "stdout"
        }
      ]
    },
    {
      "metadata": {
        "trusted": true,
        "_uuid": "c5a8f5de194c1ba4eb513941a174205675ab1c20"
      },
      "cell_type": "code",
      "source": "len(ulysses_nouns)",
      "execution_count": 81,
      "outputs": [
        {
          "output_type": "execute_result",
          "execution_count": 81,
          "data": {
            "text/plain": "71871"
          },
          "metadata": {}
        }
      ]
    },
    {
      "metadata": {
        "_uuid": "a2d64a7589ebb4380282b31fcf3e1d5bebfad03f"
      },
      "cell_type": "markdown",
      "source": "Now try this for the other categories."
    },
    {
      "metadata": {
        "_uuid": "862ba27efcd4e44f4a2e923a88ea422defc15254"
      },
      "cell_type": "markdown",
      "source": ""
    }
  ],
  "metadata": {
    "kernelspec": {
      "display_name": "Python 3",
      "language": "python",
      "name": "python3"
    },
    "language_info": {
      "name": "python",
      "version": "3.6.6",
      "mimetype": "text/x-python",
      "codemirror_mode": {
        "name": "ipython",
        "version": 3
      },
      "pygments_lexer": "ipython3",
      "nbconvert_exporter": "python",
      "file_extension": ".py"
    }
  },
  "nbformat": 4,
  "nbformat_minor": 1
}